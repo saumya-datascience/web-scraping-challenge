{
 "cells": [
  {
   "cell_type": "code",
   "execution_count": 1,
   "metadata": {},
   "outputs": [],
   "source": [
    "from splinter import Browser\n",
    "from bs4 import BeautifulSoup as bs\n",
    "import time\n",
    "from webdriver_manager.chrome import ChromeDriverManager\n",
    "import time"
   ]
  },
  {
   "cell_type": "code",
   "execution_count": 2,
   "metadata": {},
   "outputs": [
    {
     "name": "stderr",
     "output_type": "stream",
     "text": [
      "\n",
      "\n",
      "====== WebDriver manager ======\n",
      "Current google-chrome version is 91.0.4472\n",
      "Get LATEST driver version for 91.0.4472\n",
      "Driver [C:\\Users\\Saumy\\.wdm\\drivers\\chromedriver\\win32\\91.0.4472.101\\chromedriver.exe] found in cache\n"
     ]
    }
   ],
   "source": [
    "executable_path = {'executable_path': ChromeDriverManager().install()}\n",
    "browser = Browser('chrome', **executable_path, headless=False)"
   ]
  },
  {
   "cell_type": "code",
   "execution_count": 3,
   "metadata": {},
   "outputs": [],
   "source": [
    "url = \"https://marshemispheres.com/\"\n",
    "browser.visit(url)"
   ]
  },
  {
   "cell_type": "code",
   "execution_count": 4,
   "metadata": {},
   "outputs": [],
   "source": [
    "html = browser.html\n",
    "soup = bs(html, \"html.parser\")"
   ]
  },
  {
   "cell_type": "code",
   "execution_count": 5,
   "metadata": {},
   "outputs": [
    {
     "name": "stdout",
     "output_type": "stream",
     "text": [
      "['https://marshemispheres.com/cerberus.html', 'https://marshemispheres.com/schiaparelli.html', 'https://marshemispheres.com/syrtis.html', 'https://marshemispheres.com/valles.html']\n"
     ]
    }
   ],
   "source": [
    "#getting all the hemisphere links\n",
    "list=[]\n",
    "refs = soup.find_all('a')\n",
    "for i in refs:\n",
    "    link=i[\"href\"]\n",
    "    if link !=\"#\":\n",
    "        list.append(i[\"href\"])\n",
    "l_list=[list[i] for i in range(len(list)) if i % 2 !=0 ]\n",
    "link_list=[url+l_list[i] for i in range(len(l_list)) ]\n",
    "print(link_list)"
   ]
  },
  {
   "cell_type": "code",
   "execution_count": 6,
   "metadata": {},
   "outputs": [
    {
     "name": "stdout",
     "output_type": "stream",
     "text": [
      "https://marshemispheres.com/cerberus.html\n",
      "<a href=\"images/full.jpg\" target=\"_blank\">Sample</a>\n",
      "images/full.jpg\n",
      "https://marshemispheres.com/schiaparelli.html\n",
      "<a href=\"images/schiaparelli_enhanced-full.jpg\" target=\"_blank\">Sample</a>\n",
      "images/schiaparelli_enhanced-full.jpg\n",
      "https://marshemispheres.com/syrtis.html\n",
      "<a href=\"images/syrtis_major_enhanced-full.jpg\" target=\"_blank\">Sample</a>\n",
      "images/syrtis_major_enhanced-full.jpg\n",
      "https://marshemispheres.com/valles.html\n",
      "<a href=\"images/valles_marineris_enhanced-full.jpg\" target=\"_blank\">Sample</a>\n",
      "images/valles_marineris_enhanced-full.jpg\n"
     ]
    }
   ],
   "source": [
    "#EXTRACTING THE TITLE AND IMAGE LINK AND THEN SAVING THE DICT IN A BIG_LIST\n",
    "big_list=[]\n",
    "for list in link_list:\n",
    "    dict={}\n",
    "    base_url=\"https://marshemispheres.com\"\n",
    "    browser.links.find_by_href(list)\n",
    "    print(list)\n",
    "    browser.visit(list)\n",
    "    html=browser.html\n",
    "    soup = bs(html, \"html.parser\")\n",
    "    #print(soup)\n",
    "    result=soup.find_all(\"a\", target=\"_blank\")[2]\n",
    "    print(result)\n",
    "    sublink=result[\"href\"]\n",
    "    print(sublink)\n",
    "    result2=soup.find(\"h2\",class_=\"title\").get_text()\n",
    "    \n",
    "    dict[\"img_url\"]=base_url+result[\"href\"]\n",
    "    dict[\"title\"]=result2\n",
    "    big_list.append(dict)"
   ]
  },
  {
   "cell_type": "code",
   "execution_count": 7,
   "metadata": {},
   "outputs": [
    {
     "name": "stdout",
     "output_type": "stream",
     "text": [
      "[{'img_url': 'https://marshemispheres.comimages/full.jpg', 'title': 'Cerberus Hemisphere Enhanced'}, {'img_url': 'https://marshemispheres.comimages/schiaparelli_enhanced-full.jpg', 'title': 'Schiaparelli Hemisphere Enhanced'}, {'img_url': 'https://marshemispheres.comimages/syrtis_major_enhanced-full.jpg', 'title': 'Syrtis Major Hemisphere Enhanced'}, {'img_url': 'https://marshemispheres.comimages/valles_marineris_enhanced-full.jpg', 'title': 'Valles Marineris Hemisphere Enhanced'}]\n"
     ]
    }
   ],
   "source": [
    "print(big_list)"
   ]
  },
  {
   "cell_type": "code",
   "execution_count": null,
   "metadata": {},
   "outputs": [],
   "source": []
  }
 ],
 "metadata": {
  "kernelspec": {
   "display_name": "Python [conda env:PythonData] *",
   "language": "python",
   "name": "conda-env-PythonData-py"
  },
  "language_info": {
   "codemirror_mode": {
    "name": "ipython",
    "version": 3
   },
   "file_extension": ".py",
   "mimetype": "text/x-python",
   "name": "python",
   "nbconvert_exporter": "python",
   "pygments_lexer": "ipython3",
   "version": "3.6.10"
  }
 },
 "nbformat": 4,
 "nbformat_minor": 4
}
